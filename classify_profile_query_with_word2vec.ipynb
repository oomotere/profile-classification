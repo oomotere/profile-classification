{
  "nbformat": 4,
  "nbformat_minor": 0,
  "metadata": {
    "colab": {
      "name": "Sentiment analysis with word2vec.ipynb",
      "provenance": [],
      "collapsed_sections": []
    },
    "kernelspec": {
      "name": "python3",
      "display_name": "Python 3"
    },
    "accelerator": "GPU"
  },
  "cells": [
    {
      "cell_type": "code",
      "metadata": {
        "colab": {
          "base_uri": "https://localhost:8080/"
        },
        "id": "ciGoVjCrSsCT",
        "outputId": "9d6b9c2b-da03-40e7-8ba8-18f234c13a7e"
      },
      "source": [
        "import nltk\r\n",
        "nltk.download('stopwords')"
      ],
      "execution_count": 1,
      "outputs": [
        {
          "output_type": "stream",
          "text": [
            "[nltk_data] Downloading package stopwords to /root/nltk_data...\n",
            "[nltk_data]   Unzipping corpora/stopwords.zip.\n"
          ],
          "name": "stdout"
        },
        {
          "output_type": "execute_result",
          "data": {
            "text/plain": [
              "True"
            ]
          },
          "metadata": {
            "tags": []
          },
          "execution_count": 1
        }
      ]
    },
    {
      "cell_type": "code",
      "metadata": {
        "id": "o7OgM_INSDJW"
      },
      "source": [
        "import random\r\n",
        "random.seed(1)\r\n",
        "\r\n",
        "\r\n",
        "import matplotlib.pyplot as plt\r\n",
        "import matplotlib.image as mpimg \r\n",
        "import seaborn as sns\r\n",
        "import pandas as pd\r\n",
        "import numpy as np\r\n",
        "\r\n",
        "import re\r\n",
        "from bs4 import BeautifulSoup\r\n",
        "\r\n",
        "import nltk\r\n",
        "from nltk.tokenize import TweetTokenizer\r\n",
        "from nltk.tag import pos_tag\r\n",
        "\r\n",
        "from nltk.stem import WordNetLemmatizer\r\n",
        "from nltk.corpus import stopwords\r\n",
        "from nltk.stem import SnowballStemmer\r\n",
        "\r\n",
        "\r\n",
        "stop_words = stopwords.words('english')\r\n",
        "stemmer = SnowballStemmer('english')\r\n",
        "\r\n",
        "# Scikit-learn\r\n",
        "from sklearn.model_selection import train_test_split\r\n",
        "from sklearn.preprocessing import LabelEncoder\r\n",
        "from sklearn.metrics import confusion_matrix, classification_report, accuracy_score\r\n",
        "\r\n",
        "import tensorflow as tf\r\n",
        "\r\n",
        "# Keras\r\n",
        "from keras.preprocessing.text import Tokenizer\r\n",
        "from keras.preprocessing.sequence import pad_sequences\r\n",
        "from keras.models import Sequential\r\n",
        "from keras.layers import Activation, Dense, Dropout, Embedding, LSTM, GRU, Bidirectional\r\n",
        "from keras import utils\r\n",
        "from keras.callbacks import ReduceLROnPlateau, EarlyStopping\r\n",
        "\r\n",
        "\r\n",
        "# Word2vec\r\n",
        "import gensim"
      ],
      "execution_count": 2,
      "outputs": []
    },
    {
      "cell_type": "code",
      "metadata": {
        "id": "NGL1qF7Jb00t"
      },
      "source": [
        "def clean_text(text):\r\n",
        "    html_text = BeautifulSoup(text,\"html.parser\").get_text()\r\n",
        "    text = re.sub(\"[^a-zA-Z]\", \" \", html_text).strip()\r\n",
        "    text = re.sub(r'http\\S+', '', text)\r\n",
        "    text = re.sub('http', ' ', text)\r\n",
        "    text = re.sub('com', ' ', text)\r\n",
        "    text = re.sub('  +', ' ', text)\r\n",
        "    text = re.sub('\\n', ' ', text)\r\n",
        "    text = text.lower()\r\n",
        "    \r\n",
        "    return text\r\n",
        "\r\n",
        "\r\n",
        "def stemSentence(text):\r\n",
        "    stop_words = stopwords.words('english')\r\n",
        "    stemmer = SnowballStemmer('english')\r\n",
        "\r\n",
        "    stem_sentence = []\r\n",
        "    for word in text.split():\r\n",
        "        if word not in stop_words:\r\n",
        "            if len(word)>2:\r\n",
        "                stem_sentence.append(stemmer.stem(word))\r\n",
        "          \r\n",
        "    return \" \".join(stem_sentence)\r\n",
        "\r\n",
        "\r\n",
        "def lemmatize_sentence(text):\r\n",
        "    stop_words = stopwords.words('english')\r\n",
        "    lemmatizer = WordNetLemmatizer()\r\n",
        "\r\n",
        "    lemmatized_sentence = []\r\n",
        "    for word, tag in pos_tag(text.split()):\r\n",
        "        # In general, if a tag starts with NN, the word is a noun and if it stars with VB, the word is a verb.\r\n",
        "        if tag.startswith('NN'):\r\n",
        "            pos = 'n'\r\n",
        "        elif tag.startswith('VB'):\r\n",
        "            pos = 'v'\r\n",
        "        else:\r\n",
        "            pos = 'a'\r\n",
        "\r\n",
        "        if word not in stop_words:\r\n",
        "            lemmatized_sentence.append(lemmatizer.lemmatize(word, pos))\r\n",
        "\r\n",
        "    return \" \".join(lemmatized_sentence)"
      ],
      "execution_count": 3,
      "outputs": []
    },
    {
      "cell_type": "code",
      "metadata": {
        "id": "4fgRTpWRcIGL"
      },
      "source": [
        "# WORD2VEC \r\n",
        "W2V_SIZE = 500\r\n",
        "W2V_WINDOW = 3\r\n",
        "W2V_EPOCH = 32\r\n",
        "W2V_MIN_COUNT = 20\r\n",
        "\r\n",
        "# KERAS\r\n",
        "SEQUENCE_LENGTH = 150\r\n",
        "EPOCHS = 10\r\n",
        "BATCH_SIZE = 1024"
      ],
      "execution_count": 4,
      "outputs": []
    },
    {
      "cell_type": "code",
      "metadata": {
        "colab": {
          "resources": {
            "http://localhost:8080/nbextensions/google.colab/files.js": {
              "data": "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",
              "ok": true,
              "headers": [
                [
                  "content-type",
                  "application/javascript"
                ]
              ],
              "status": 200,
              "status_text": ""
            }
          },
          "base_uri": "https://localhost:8080/",
          "height": 260
        },
        "id": "HGFYnxnccdII",
        "outputId": "bb0e8372-1545-4a2c-b697-4d49d6cf0723"
      },
      "source": [
        "from google.colab import files\r\n",
        "uploaded = files.upload()\r\n",
        "\r\n",
        "import io\r\n",
        "dt = pd.read_csv(io.BytesIO(uploaded['training.1600000.processed.noemoticon.csv'].decode('latin-1').encode('utf-8')))\r\n",
        "\r\n",
        "# dt = pd.read_csv('C:\\\\Users\\\\oluji\\\\Documents\\\\bert\\\\sentiment_analysis_with_tweets\\\\training.1600000.processed.noemoticon.csv', encoding='latin-1', header = None)\r\n",
        "dt.columns=['Sentiment', 'id', 'Date', 'Query', 'User', 'Tweet']\r\n",
        "dt = dt.drop(columns=['id', 'Date', 'Query', 'User'], axis=1)\r\n",
        "dt.tail(5)"
      ],
      "execution_count": 5,
      "outputs": [
        {
          "output_type": "display_data",
          "data": {
            "text/html": [
              "\n",
              "     <input type=\"file\" id=\"files-96bade6a-bcd9-4019-bb27-4cff12ace56f\" name=\"files[]\" multiple disabled\n",
              "        style=\"border:none\" />\n",
              "     <output id=\"result-96bade6a-bcd9-4019-bb27-4cff12ace56f\">\n",
              "      Upload widget is only available when the cell has been executed in the\n",
              "      current browser session. Please rerun this cell to enable.\n",
              "      </output>\n",
              "      <script src=\"/nbextensions/google.colab/files.js\"></script> "
            ],
            "text/plain": [
              "<IPython.core.display.HTML object>"
            ]
          },
          "metadata": {
            "tags": []
          }
        },
        {
          "output_type": "stream",
          "text": [
            "Saving training.1600000.processed.noemoticon.csv to training.1600000.processed.noemoticon.csv\n"
          ],
          "name": "stdout"
        },
        {
          "output_type": "execute_result",
          "data": {
            "text/html": [
              "<div>\n",
              "<style scoped>\n",
              "    .dataframe tbody tr th:only-of-type {\n",
              "        vertical-align: middle;\n",
              "    }\n",
              "\n",
              "    .dataframe tbody tr th {\n",
              "        vertical-align: top;\n",
              "    }\n",
              "\n",
              "    .dataframe thead th {\n",
              "        text-align: right;\n",
              "    }\n",
              "</style>\n",
              "<table border=\"1\" class=\"dataframe\">\n",
              "  <thead>\n",
              "    <tr style=\"text-align: right;\">\n",
              "      <th></th>\n",
              "      <th>Sentiment</th>\n",
              "      <th>Tweet</th>\n",
              "    </tr>\n",
              "  </thead>\n",
              "  <tbody>\n",
              "    <tr>\n",
              "      <th>1599994</th>\n",
              "      <td>4</td>\n",
              "      <td>Just woke up. Having no school is the best fee...</td>\n",
              "    </tr>\n",
              "    <tr>\n",
              "      <th>1599995</th>\n",
              "      <td>4</td>\n",
              "      <td>TheWDB.com - Very cool to hear old Walt interv...</td>\n",
              "    </tr>\n",
              "    <tr>\n",
              "      <th>1599996</th>\n",
              "      <td>4</td>\n",
              "      <td>Are you ready for your MoJo Makeover? Ask me f...</td>\n",
              "    </tr>\n",
              "    <tr>\n",
              "      <th>1599997</th>\n",
              "      <td>4</td>\n",
              "      <td>Happy 38th Birthday to my boo of alll time!!! ...</td>\n",
              "    </tr>\n",
              "    <tr>\n",
              "      <th>1599998</th>\n",
              "      <td>4</td>\n",
              "      <td>happy #charitytuesday @theNSPCC @SparksCharity...</td>\n",
              "    </tr>\n",
              "  </tbody>\n",
              "</table>\n",
              "</div>"
            ],
            "text/plain": [
              "         Sentiment                                              Tweet\n",
              "1599994          4  Just woke up. Having no school is the best fee...\n",
              "1599995          4  TheWDB.com - Very cool to hear old Walt interv...\n",
              "1599996          4  Are you ready for your MoJo Makeover? Ask me f...\n",
              "1599997          4  Happy 38th Birthday to my boo of alll time!!! ...\n",
              "1599998          4  happy #charitytuesday @theNSPCC @SparksCharity..."
            ]
          },
          "metadata": {
            "tags": []
          },
          "execution_count": 5
        }
      ]
    },
    {
      "cell_type": "code",
      "metadata": {
        "colab": {
          "base_uri": "https://localhost:8080/"
        },
        "id": "BSvLKVvlhHVC",
        "outputId": "ab47207c-9b85-4574-b8d5-b42a4f4f9312"
      },
      "source": [
        "f={0 : 'Negative', 4 : 'Positive'}\r\n",
        "def sentiment_decoder(sentiment):\r\n",
        "    return f[sentiment]\r\n",
        "\r\n",
        "dt.Sentiment = dt.Sentiment.apply(lambda x: sentiment_decoder(x))\r\n",
        "\r\n",
        "len(dt)"
      ],
      "execution_count": 6,
      "outputs": [
        {
          "output_type": "execute_result",
          "data": {
            "text/plain": [
              "1599999"
            ]
          },
          "metadata": {
            "tags": []
          },
          "execution_count": 6
        }
      ]
    },
    {
      "cell_type": "code",
      "metadata": {
        "colab": {
          "base_uri": "https://localhost:8080/"
        },
        "id": "YP2QJnFjhbRs",
        "outputId": "481744ed-a6f4-4185-e11b-bfc75af181c5"
      },
      "source": [
        "# May make dataset smaller\r\n",
        "dt_pos = dt[dt.Sentiment == 'Positive']\r\n",
        "dt_neg = dt[dt.Sentiment == 'Negative']\r\n",
        "dt_pos = dt_pos.iloc[:int(len(dt_pos)/1)]\r\n",
        "dt_neg = dt_neg.iloc[:int(len(dt_neg)/1)]\r\n",
        "dt = pd.concat([dt_pos, dt_neg])\r\n",
        "len(dt)"
      ],
      "execution_count": 7,
      "outputs": [
        {
          "output_type": "execute_result",
          "data": {
            "text/plain": [
              "1599999"
            ]
          },
          "metadata": {
            "tags": []
          },
          "execution_count": 7
        }
      ]
    },
    {
      "cell_type": "code",
      "metadata": {
        "colab": {
          "base_uri": "https://localhost:8080/"
        },
        "id": "nqp5VINm2aI2",
        "outputId": "6471b3e2-6cb4-47e7-b4ec-682867f5d37a"
      },
      "source": [
        "dt[dt.Sentiment == 'Positive'].count()"
      ],
      "execution_count": 8,
      "outputs": [
        {
          "output_type": "execute_result",
          "data": {
            "text/plain": [
              "Sentiment    800000\n",
              "Tweet        800000\n",
              "dtype: int64"
            ]
          },
          "metadata": {
            "tags": []
          },
          "execution_count": 8
        }
      ]
    },
    {
      "cell_type": "code",
      "metadata": {
        "colab": {
          "base_uri": "https://localhost:8080/",
          "height": 204
        },
        "id": "KxnC4jh4hjHc",
        "outputId": "90445e87-235a-4d13-af5b-0d83af666efb"
      },
      "source": [
        "dt.Tweet = dt.Tweet.apply(lambda x: clean_text(x))\r\n",
        "dt.head()"
      ],
      "execution_count": 9,
      "outputs": [
        {
          "output_type": "execute_result",
          "data": {
            "text/html": [
              "<div>\n",
              "<style scoped>\n",
              "    .dataframe tbody tr th:only-of-type {\n",
              "        vertical-align: middle;\n",
              "    }\n",
              "\n",
              "    .dataframe tbody tr th {\n",
              "        vertical-align: top;\n",
              "    }\n",
              "\n",
              "    .dataframe thead th {\n",
              "        text-align: right;\n",
              "    }\n",
              "</style>\n",
              "<table border=\"1\" class=\"dataframe\">\n",
              "  <thead>\n",
              "    <tr style=\"text-align: right;\">\n",
              "      <th></th>\n",
              "      <th>Sentiment</th>\n",
              "      <th>Tweet</th>\n",
              "    </tr>\n",
              "  </thead>\n",
              "  <tbody>\n",
              "    <tr>\n",
              "      <th>799999</th>\n",
              "      <td>Positive</td>\n",
              "      <td>i love health uandpets u guys r the best</td>\n",
              "    </tr>\n",
              "    <tr>\n",
              "      <th>800000</th>\n",
              "      <td>Positive</td>\n",
              "      <td>im meeting up with one of my besties tonight c...</td>\n",
              "    </tr>\n",
              "    <tr>\n",
              "      <th>800001</th>\n",
              "      <td>Positive</td>\n",
              "      <td>darealsunisakim thanks for the twitter add sun...</td>\n",
              "    </tr>\n",
              "    <tr>\n",
              "      <th>800002</th>\n",
              "      <td>Positive</td>\n",
              "      <td>being sick can be really cheap when it hurts t...</td>\n",
              "    </tr>\n",
              "    <tr>\n",
              "      <th>800003</th>\n",
              "      <td>Positive</td>\n",
              "      <td>lovesbrooklyn he has that effect on everyone</td>\n",
              "    </tr>\n",
              "  </tbody>\n",
              "</table>\n",
              "</div>"
            ],
            "text/plain": [
              "       Sentiment                                              Tweet\n",
              "799999  Positive           i love health uandpets u guys r the best\n",
              "800000  Positive  im meeting up with one of my besties tonight c...\n",
              "800001  Positive  darealsunisakim thanks for the twitter add sun...\n",
              "800002  Positive  being sick can be really cheap when it hurts t...\n",
              "800003  Positive       lovesbrooklyn he has that effect on everyone"
            ]
          },
          "metadata": {
            "tags": []
          },
          "execution_count": 9
        }
      ]
    },
    {
      "cell_type": "code",
      "metadata": {
        "colab": {
          "base_uri": "https://localhost:8080/",
          "height": 204
        },
        "id": "PF-BGj0miHMq",
        "outputId": "e9fe1219-6384-4dd1-8eb1-5252c4a7c03d"
      },
      "source": [
        "#May use Stemma or Lemma\r\n",
        "dt.Tweet = dt.Tweet.apply(lambda x: stemSentence(x))\r\n",
        "dt.head()"
      ],
      "execution_count": 10,
      "outputs": [
        {
          "output_type": "execute_result",
          "data": {
            "text/html": [
              "<div>\n",
              "<style scoped>\n",
              "    .dataframe tbody tr th:only-of-type {\n",
              "        vertical-align: middle;\n",
              "    }\n",
              "\n",
              "    .dataframe tbody tr th {\n",
              "        vertical-align: top;\n",
              "    }\n",
              "\n",
              "    .dataframe thead th {\n",
              "        text-align: right;\n",
              "    }\n",
              "</style>\n",
              "<table border=\"1\" class=\"dataframe\">\n",
              "  <thead>\n",
              "    <tr style=\"text-align: right;\">\n",
              "      <th></th>\n",
              "      <th>Sentiment</th>\n",
              "      <th>Tweet</th>\n",
              "    </tr>\n",
              "  </thead>\n",
              "  <tbody>\n",
              "    <tr>\n",
              "      <th>799999</th>\n",
              "      <td>Positive</td>\n",
              "      <td>love health uandpet guy best</td>\n",
              "    </tr>\n",
              "    <tr>\n",
              "      <th>800000</th>\n",
              "      <td>Positive</td>\n",
              "      <td>meet one besti tonight cant wait girl talk</td>\n",
              "    </tr>\n",
              "    <tr>\n",
              "      <th>800001</th>\n",
              "      <td>Positive</td>\n",
              "      <td>darealsunisakim thank twitter add sunisa got m...</td>\n",
              "    </tr>\n",
              "    <tr>\n",
              "      <th>800002</th>\n",
              "      <td>Positive</td>\n",
              "      <td>sick realli cheap hurt much eat real food plus...</td>\n",
              "    </tr>\n",
              "    <tr>\n",
              "      <th>800003</th>\n",
              "      <td>Positive</td>\n",
              "      <td>lovesbrooklyn effect everyon</td>\n",
              "    </tr>\n",
              "  </tbody>\n",
              "</table>\n",
              "</div>"
            ],
            "text/plain": [
              "       Sentiment                                              Tweet\n",
              "799999  Positive                       love health uandpet guy best\n",
              "800000  Positive         meet one besti tonight cant wait girl talk\n",
              "800001  Positive  darealsunisakim thank twitter add sunisa got m...\n",
              "800002  Positive  sick realli cheap hurt much eat real food plus...\n",
              "800003  Positive                       lovesbrooklyn effect everyon"
            ]
          },
          "metadata": {
            "tags": []
          },
          "execution_count": 10
        }
      ]
    },
    {
      "cell_type": "code",
      "metadata": {
        "id": "8sZiu_vmjm22"
      },
      "source": [
        "dt_train, dt_test = train_test_split(dt, test_size=0.2, random_state=42)"
      ],
      "execution_count": 11,
      "outputs": []
    },
    {
      "cell_type": "code",
      "metadata": {
        "id": "XkQpYHEpjwAf"
      },
      "source": [
        "corpus = [_text.split() for _text in dt_train.Tweet] "
      ],
      "execution_count": 12,
      "outputs": []
    },
    {
      "cell_type": "code",
      "metadata": {
        "id": "VWkQvS-Tj7dt"
      },
      "source": [
        "w2v_model = gensim.models.word2vec.Word2Vec(size=W2V_SIZE, \r\n",
        "                                            window=W2V_WINDOW, \r\n",
        "                                            min_count=W2V_MIN_COUNT, \r\n",
        "                                            workers=8)"
      ],
      "execution_count": 13,
      "outputs": []
    },
    {
      "cell_type": "code",
      "metadata": {
        "id": "73O1n4pUkAzj"
      },
      "source": [
        "w2v_model.build_vocab(corpus)"
      ],
      "execution_count": 14,
      "outputs": []
    },
    {
      "cell_type": "code",
      "metadata": {
        "colab": {
          "base_uri": "https://localhost:8080/"
        },
        "id": "D2sxjfjM2pJN",
        "outputId": "dfb07f8c-94c4-45b5-a477-1dd24787ffca"
      },
      "source": [
        "words = w2v_model.wv.vocab.keys()\r\n",
        "vocab_size = len(words)\r\n",
        "print(\"Vocab size\", vocab_size)"
      ],
      "execution_count": 15,
      "outputs": [
        {
          "output_type": "stream",
          "text": [
            "Vocab size 16910\n"
          ],
          "name": "stdout"
        }
      ]
    },
    {
      "cell_type": "code",
      "metadata": {
        "colab": {
          "base_uri": "https://localhost:8080/"
        },
        "id": "J7WdeVLo2yon",
        "outputId": "43e4e607-db94-4158-b8b6-5904081f8a91"
      },
      "source": [
        "w2v_model.train(corpus, total_examples=len(corpus), epochs=W2V_EPOCH)"
      ],
      "execution_count": 16,
      "outputs": [
        {
          "output_type": "execute_result",
          "data": {
            "text/plain": [
              "(240093046, 290986272)"
            ]
          },
          "metadata": {
            "tags": []
          },
          "execution_count": 16
        }
      ]
    },
    {
      "cell_type": "code",
      "metadata": {
        "colab": {
          "base_uri": "https://localhost:8080/"
        },
        "id": "C2SLpkjb23O5",
        "outputId": "c1891818-74b8-4f02-f678-540c0b9382b5"
      },
      "source": [
        "w2v_model.wv.most_similar(\"sad\")"
      ],
      "execution_count": 17,
      "outputs": [
        {
          "output_type": "execute_result",
          "data": {
            "text/plain": [
              "[('depress', 0.5291171669960022),\n",
              " ('upset', 0.5228754878044128),\n",
              " ('bad', 0.39756065607070923),\n",
              " ('cri', 0.39066779613494873),\n",
              " ('sadder', 0.38987910747528076),\n",
              " ('sadd', 0.3725551664829254),\n",
              " ('bum', 0.36599692702293396),\n",
              " ('disappoint', 0.3651679754257202),\n",
              " ('bittersweet', 0.36477428674697876),\n",
              " ('angri', 0.3584239184856415)]"
            ]
          },
          "metadata": {
            "tags": []
          },
          "execution_count": 17
        }
      ]
    },
    {
      "cell_type": "code",
      "metadata": {
        "colab": {
          "base_uri": "https://localhost:8080/"
        },
        "id": "JHTYThoK27No",
        "outputId": "74054406-5d51-45d7-a7a3-3ca1b1241866"
      },
      "source": [
        "w2v_model.wv.most_similar(\"life\")"
      ],
      "execution_count": 18,
      "outputs": [
        {
          "output_type": "execute_result",
          "data": {
            "text/plain": [
              "[('world', 0.37090444564819336),\n",
              " ('thing', 0.336578369140625),\n",
              " ('friendship', 0.3240378201007843),\n",
              " ('relationship', 0.3153746724128723),\n",
              " ('ever', 0.30860933661460876),\n",
              " ('career', 0.2911122143268585),\n",
              " ('alway', 0.28850504755973816),\n",
              " ('job', 0.2844707667827606),\n",
              " ('time', 0.2810831665992737),\n",
              " ('sometim', 0.28067752718925476)]"
            ]
          },
          "metadata": {
            "tags": []
          },
          "execution_count": 18
        }
      ]
    },
    {
      "cell_type": "code",
      "metadata": {
        "colab": {
          "base_uri": "https://localhost:8080/"
        },
        "id": "KpV--9ar3HZ2",
        "outputId": "33c8f9ad-e26f-439a-ab20-4b8a7a10112a"
      },
      "source": [
        "w2v_model.wv.most_similar(\"pizza\")"
      ],
      "execution_count": 19,
      "outputs": [
        {
          "output_type": "execute_result",
          "data": {
            "text/plain": [
              "[('pasta', 0.4445136487483978),\n",
              " ('lasagna', 0.42420461773872375),\n",
              " ('ravioli', 0.41971060633659363),\n",
              " ('macaroni', 0.4152759909629822),\n",
              " ('leftov', 0.41161012649536133),\n",
              " ('dinner', 0.4110911786556244),\n",
              " ('taco', 0.3982848525047302),\n",
              " ('pepperoni', 0.3958352208137512),\n",
              " ('lasagn', 0.395790159702301),\n",
              " ('food', 0.3955288529396057)]"
            ]
          },
          "metadata": {
            "tags": []
          },
          "execution_count": 19
        }
      ]
    },
    {
      "cell_type": "code",
      "metadata": {
        "colab": {
          "base_uri": "https://localhost:8080/"
        },
        "id": "Qro-Uqpg3NRW",
        "outputId": "43097c0a-2488-410c-80f0-0467f113aac6"
      },
      "source": [
        "tokenizer = Tokenizer()\r\n",
        "tokenizer.fit_on_texts(dt_train.Tweet)\r\n",
        "\r\n",
        "vocab_size = len(tokenizer.word_index) + 1\r\n",
        "print(\"Total words\", vocab_size)"
      ],
      "execution_count": 20,
      "outputs": [
        {
          "output_type": "stream",
          "text": [
            "Total words 460628\n"
          ],
          "name": "stdout"
        }
      ]
    },
    {
      "cell_type": "code",
      "metadata": {
        "id": "QSQgYw4O3U1K"
      },
      "source": [
        "x_train = pad_sequences(tokenizer.texts_to_sequences(dt_train.Tweet), maxlen=SEQUENCE_LENGTH)\r\n",
        "x_test = pad_sequences(tokenizer.texts_to_sequences(dt_test.Tweet), maxlen=SEQUENCE_LENGTH)"
      ],
      "execution_count": 21,
      "outputs": []
    },
    {
      "cell_type": "code",
      "metadata": {
        "colab": {
          "base_uri": "https://localhost:8080/"
        },
        "id": "6ca8yh1C3Yuu",
        "outputId": "36fee843-454a-438f-d75b-92956778ca54"
      },
      "source": [
        "labels = dt_train.Sentiment.unique().tolist()\r\n",
        "\r\n",
        "labels"
      ],
      "execution_count": 22,
      "outputs": [
        {
          "output_type": "execute_result",
          "data": {
            "text/plain": [
              "['Negative', 'Positive']"
            ]
          },
          "metadata": {
            "tags": []
          },
          "execution_count": 22
        }
      ]
    },
    {
      "cell_type": "code",
      "metadata": {
        "colab": {
          "base_uri": "https://localhost:8080/"
        },
        "id": "3SAF5SHT3fJ0",
        "outputId": "56d2d854-91a3-4ce7-ea79-caf12999fd93"
      },
      "source": [
        "encoder = LabelEncoder()\r\n",
        "encoder.fit(dt_train.Sentiment.tolist())\r\n",
        "\r\n",
        "y_train = encoder.transform(dt_train.Sentiment.tolist())\r\n",
        "y_test = encoder.transform(dt_test.Sentiment.tolist())\r\n",
        "\r\n",
        "y_train = y_train.reshape(-1,1)\r\n",
        "y_test = y_test.reshape(-1,1)\r\n",
        "\r\n",
        "print(\"y_train\",y_train.shape)\r\n",
        "print(\"y_test\",y_test.shape)"
      ],
      "execution_count": 23,
      "outputs": [
        {
          "output_type": "stream",
          "text": [
            "y_train (1279999, 1)\n",
            "y_test (320000, 1)\n"
          ],
          "name": "stdout"
        }
      ]
    },
    {
      "cell_type": "code",
      "metadata": {
        "colab": {
          "base_uri": "https://localhost:8080/"
        },
        "id": "C92i2EMX3jbe",
        "outputId": "592cfd99-7ea0-4209-fe57-f242a9a5ae75"
      },
      "source": [
        "embedding_matrix = np.zeros((vocab_size, W2V_SIZE))\r\n",
        "for word, i in tokenizer.word_index.items():\r\n",
        "    if word in w2v_model.wv:\r\n",
        "        embedding_matrix[i] = w2v_model.wv[word]\r\n",
        "print(embedding_matrix.shape)"
      ],
      "execution_count": 24,
      "outputs": [
        {
          "output_type": "stream",
          "text": [
            "(460628, 500)\n"
          ],
          "name": "stdout"
        }
      ]
    },
    {
      "cell_type": "code",
      "metadata": {
        "id": "YTVYyoGU3sJ1"
      },
      "source": [
        "embedding_layer = Embedding(vocab_size, W2V_SIZE, weights=[embedding_matrix], input_length=SEQUENCE_LENGTH, trainable=False)"
      ],
      "execution_count": 25,
      "outputs": []
    },
    {
      "cell_type": "code",
      "metadata": {
        "id": "SE-FiOKB3wXa"
      },
      "source": [
        "learning_rate_reduction = [ReduceLROnPlateau(monitor='val_accuracy', patience = 2, verbose=1,factor=0.5, min_lr=0.00001)]"
      ],
      "execution_count": 26,
      "outputs": []
    },
    {
      "cell_type": "code",
      "metadata": {
        "id": "MNscEBEg3z6T"
      },
      "source": [
        "model = Sequential()\r\n",
        "model.add(embedding_layer)\r\n",
        "#LSTM \r\n",
        "model.add(Bidirectional(LSTM(units=100 , return_sequences = True, dropout = 0.2)))\r\n",
        "model.add(Bidirectional(LSTM(units=100 , dropout = 0.1)))\r\n",
        "model.add(Dense(units = 32 , activation = 'relu'))\r\n",
        "model.add(Dense(1, activation='sigmoid'))\r\n",
        "\r\n",
        "model.compile(optimizer=tf.keras.optimizers.Adam(lr = 0.01), loss='binary_crossentropy', metrics=['accuracy'])"
      ],
      "execution_count": 27,
      "outputs": []
    },
    {
      "cell_type": "code",
      "metadata": {
        "colab": {
          "base_uri": "https://localhost:8080/"
        },
        "id": "_2z-gNBy34jp",
        "outputId": "6e1c39fa-7581-4d69-a98d-bc34da35483b"
      },
      "source": [
        "model.summary()"
      ],
      "execution_count": 28,
      "outputs": [
        {
          "output_type": "stream",
          "text": [
            "Model: \"sequential\"\n",
            "_________________________________________________________________\n",
            "Layer (type)                 Output Shape              Param #   \n",
            "=================================================================\n",
            "embedding (Embedding)        (None, 150, 500)          230314000 \n",
            "_________________________________________________________________\n",
            "bidirectional (Bidirectional (None, 150, 200)          480800    \n",
            "_________________________________________________________________\n",
            "bidirectional_1 (Bidirection (None, 200)               240800    \n",
            "_________________________________________________________________\n",
            "dense (Dense)                (None, 32)                6432      \n",
            "_________________________________________________________________\n",
            "dense_1 (Dense)              (None, 1)                 33        \n",
            "=================================================================\n",
            "Total params: 231,042,065\n",
            "Trainable params: 728,065\n",
            "Non-trainable params: 230,314,000\n",
            "_________________________________________________________________\n"
          ],
          "name": "stdout"
        }
      ]
    },
    {
      "cell_type": "code",
      "metadata": {
        "colab": {
          "base_uri": "https://localhost:8080/"
        },
        "id": "TM0ZYQ4ArmTx",
        "outputId": "1590ede5-d665-46e4-afdc-8dba4ae85d93"
      },
      "source": [
        "history = model.fit(x_train, y_train,\r\n",
        "                    batch_size = BATCH_SIZE, \r\n",
        "                    validation_split=0.1,\r\n",
        "                    epochs = 4, # EPOCHS, \r\n",
        "                    callbacks = learning_rate_reduction)"
      ],
      "execution_count": 29,
      "outputs": [
        {
          "output_type": "stream",
          "text": [
            "Epoch 1/4\n",
            "1125/1125 [==============================] - 521s 452ms/step - loss: 0.4835 - accuracy: 0.7676 - val_loss: 0.4565 - val_accuracy: 0.7829\n",
            "Epoch 2/4\n",
            "1125/1125 [==============================] - 517s 460ms/step - loss: 0.4500 - accuracy: 0.7861 - val_loss: 0.4516 - val_accuracy: 0.7852\n",
            "Epoch 3/4\n",
            "1125/1125 [==============================] - 517s 460ms/step - loss: 0.4458 - accuracy: 0.7888 - val_loss: 0.4501 - val_accuracy: 0.7862\n",
            "Epoch 4/4\n",
            "1125/1125 [==============================] - 519s 461ms/step - loss: 0.4437 - accuracy: 0.7895 - val_loss: 0.4498 - val_accuracy: 0.7877\n"
          ],
          "name": "stdout"
        }
      ]
    },
    {
      "cell_type": "code",
      "metadata": {
        "id": "yHZXYLYmLa-d"
      },
      "source": [
        "def plot_acc_loss(history):\r\n",
        "\r\n",
        "    acc = history.history['accuracy']\r\n",
        "    val_acc = history.history['val_accuracy']\r\n",
        "    loss = history.history['loss']\r\n",
        "    val_loss = history.history['val_loss']\r\n",
        "    epochs = range(1, len(acc) + 1)\r\n",
        "\r\n",
        "    plt.plot(epochs, acc, 'b', label = 'Training Accuracy')\r\n",
        "    plt.plot(epochs, val_acc, 'r', label = 'Validation Accuracy')\r\n",
        "    plt.title('Training and Validation Accuracy')\r\n",
        "    plt.xlabel('Epochs')\r\n",
        "    plt.ylabel('Loss')\r\n",
        "    plt.legend()\r\n",
        "\r\n",
        "    plt.figure()\r\n",
        "    plt.plot(epochs, loss, 'b', label = 'Training Loss')\r\n",
        "    plt.plot(epochs, val_loss, 'r', label = 'Validation Loss')\r\n",
        "    plt.title('Training and Validation Loss')\r\n",
        "    plt.xlabel('Epochs')\r\n",
        "    plt.ylabel('Loss')\r\n",
        "    plt.legend()\r\n",
        "    plt.show()"
      ],
      "execution_count": 32,
      "outputs": []
    },
    {
      "cell_type": "code",
      "metadata": {
        "colab": {
          "base_uri": "https://localhost:8080/",
          "height": 573
        },
        "id": "v7bouf9GMzhm",
        "outputId": "1c4286ec-7300-4709-c7c6-7d293df6edc1"
      },
      "source": [
        "plot_acc_loss(model.history)"
      ],
      "execution_count": 33,
      "outputs": [
        {
          "output_type": "display_data",
          "data": {
            "image/png": "[encoded data removed]",
            "text/plain": [
              "<Figure size 432x288 with 1 Axes>"
            ]
          },
          "metadata": {
            "tags": [],
            "needs_background": "light"
          }
        },
        {
          "output_type": "display_data",
          "data": {
            "image/png": "[encoded data removed]",
            "text/plain": [
              "<Figure size 432x288 with 1 Axes>"
            ]
          },
          "metadata": {
            "tags": [],
            "needs_background": "light"
          }
        }
      ]
    }
  ]
}